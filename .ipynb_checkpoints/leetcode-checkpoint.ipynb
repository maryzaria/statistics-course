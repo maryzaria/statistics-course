{
 "cells": [
  {
   "cell_type": "code",
   "execution_count": 1,
   "id": "22090b37",
   "metadata": {},
   "outputs": [
    {
     "name": "stdout",
     "output_type": "stream",
     "text": [
      "i\n",
      "i\n",
      "i\n"
     ]
    }
   ],
   "source": [
    "s = \"iii\"\n",
    "for i in range(len(s)):\n",
    "    print(s[i])"
   ]
  },
  {
   "cell_type": "code",
   "execution_count": 6,
   "id": "1d49d9a0",
   "metadata": {},
   "outputs": [
    {
     "name": "stdout",
     "output_type": "stream",
     "text": [
      "{'I': 1, 'V': 5, 'X': 10, 'L': 50, 'C': 100, 'D': 500, 'M': 1000}\n"
     ]
    }
   ],
   "source": [
    "Symbol={'I':1, 'V':5, 'X': 10, 'L':50, 'C':100, 'D':500, 'M':1000}\n",
    "\n",
    "print(Symbol)"
   ]
  },
  {
   "cell_type": "code",
   "execution_count": 9,
   "id": "31c7136c",
   "metadata": {},
   "outputs": [
    {
     "name": "stdout",
     "output_type": "stream",
     "text": [
      "1\n",
      "1\n",
      "1\n"
     ]
    }
   ],
   "source": [
    "s = \"III\"\n",
    "for i in range(len(s)):\n",
    "    print(Symbol[s[i]])\n"
   ]
  },
  {
   "cell_type": "code",
   "execution_count": 10,
   "id": "a803b465",
   "metadata": {},
   "outputs": [
    {
     "name": "stdout",
     "output_type": "stream",
     "text": [
      "3\n"
     ]
    }
   ],
   "source": [
    "Symbol={'I':1, 'V':5, 'X': 10, 'L':50, 'C':100, 'D':500, 'M':1000}\n",
    "sum=0\n",
    "s = \"III\"\n",
    "for i in range(len(s)):\n",
    "    sum += Symbol[s[i]] \n",
    "print(sum)"
   ]
  },
  {
   "cell_type": "code",
   "execution_count": 27,
   "id": "1f1ead37",
   "metadata": {},
   "outputs": [
    {
     "name": "stdout",
     "output_type": "stream",
     "text": [
      "3\n"
     ]
    }
   ],
   "source": [
    "s = \"III\"\n",
    "S1={'I':1, 'V':5, 'X': 10, 'L':50, 'C':100, 'D':500, 'M':1000}\n",
    "S2={'IV':4, 'IX':9, 'XL':40, 'XC':90, 'CD': 400, 'CM': 900}\n",
    "sum=0\n",
    "i=0\n",
    "k=0\n",
    "while i < len(s):\n",
    "    try:\n",
    "        k=s[i]+s[i+1]\n",
    "    except:\n",
    "        ValueError\n",
    "        k=0\n",
    "    if k in S2:\n",
    "        sum += S2[k]\n",
    "        i +=2\n",
    "    else:\n",
    "        sum += S1[s[i]]\n",
    "        i+=1 \n",
    "print(sum)"
   ]
  },
  {
   "cell_type": "code",
   "execution_count": 39,
   "id": "812d6c8d",
   "metadata": {},
   "outputs": [
    {
     "name": "stdout",
     "output_type": "stream",
     "text": [
      "fl\n"
     ]
    }
   ],
   "source": [
    "strs = [\"flower\",\"flow\",\"flight\"]\n",
    "a=strs[0]\n",
    "for i in range(len(strs)):\n",
    "    l = min(len(a), len(strs[i]))\n",
    "    while a[:l]!=strs[i][:l]:\n",
    "        l -=1\n",
    "print(a[:l])"
   ]
  },
  {
   "cell_type": "code",
   "execution_count": 40,
   "id": "92de12e5",
   "metadata": {},
   "outputs": [
    {
     "name": "stdout",
     "output_type": "stream",
     "text": [
      "false\n"
     ]
    }
   ],
   "source": [
    "s = \"(]\"\n",
    "for i in range(len(s)-1):\n",
    "    if s[i]=='(' and s[i+1]==')':\n",
    "        print('true')\n",
    "    elif s[i]=='[' and s[i+1]==']':\n",
    "        print('true')\n",
    "    elif s[i]=='{' and s[i+1]=='}':\n",
    "        print('true')\n",
    "    else:\n",
    "        print('false')"
   ]
  },
  {
   "cell_type": "code",
   "execution_count": 2,
   "id": "4d8f8254",
   "metadata": {},
   "outputs": [
    {
     "name": "stdout",
     "output_type": "stream",
     "text": [
      "Y\n"
     ]
    }
   ],
   "source": [
    "lst = [1,2,3]\n",
    "lst1=[]\n",
    "if not lst1:\n",
    "    print('Y')\n",
    "else:\n",
    "    print('N')"
   ]
  },
  {
   "cell_type": "code",
   "execution_count": 6,
   "id": "786ab3f0",
   "metadata": {},
   "outputs": [
    {
     "name": "stdout",
     "output_type": "stream",
     "text": [
      "dict_values(['[', '{', '('])\n"
     ]
    }
   ],
   "source": [
    "dic = {']' : '[', '}' : '{', ')' : '('}\n",
    "print(dic.values())"
   ]
  },
  {
   "cell_type": "code",
   "execution_count": 10,
   "id": "3d646856",
   "metadata": {},
   "outputs": [
    {
     "name": "stdout",
     "output_type": "stream",
     "text": [
      "01\n"
     ]
    }
   ],
   "source": [
    "x='10'\n",
    "s=\"\"\n",
    "for i in range(len(str(x))):\n",
    "    s+=str(x[i])\n",
    "print(s[::-1])"
   ]
  },
  {
   "cell_type": "code",
   "execution_count": 11,
   "id": "bb37995a",
   "metadata": {},
   "outputs": [
    {
     "name": "stdout",
     "output_type": "stream",
     "text": [
      "[1, 1, 2, 3, 4, 4]\n"
     ]
    }
   ],
   "source": [
    "list1 = [1,2,4]\n",
    "list2 = [1,3,4]\n",
    "lst = list1 + list2\n",
    "print(sorted(lst))\n"
   ]
  },
  {
   "cell_type": "code",
   "execution_count": 19,
   "id": "81f22824",
   "metadata": {},
   "outputs": [
    {
     "name": "stdout",
     "output_type": "stream",
     "text": [
      "2\n",
      "[5, 6, 12]\n"
     ]
    }
   ],
   "source": [
    "list1 = [12]\n",
    "list2 = [5, 6]\n",
    "print(len(list2))\n",
    "for i in range(len(list2)):\n",
    "    list1.append(list2[i])\n",
    "print(sorted(list1))"
   ]
  },
  {
   "cell_type": "code",
   "execution_count": 1,
   "id": "b0114722",
   "metadata": {},
   "outputs": [
    {
     "name": "stdout",
     "output_type": "stream",
     "text": [
      "[12, 6, 5]\n"
     ]
    }
   ],
   "source": [
    "d = [5, 6, 12]\n",
    "z=d[::-1]\n",
    "print(z)"
   ]
  },
  {
   "cell_type": "code",
   "execution_count": 20,
   "id": "0b7ecd17",
   "metadata": {},
   "outputs": [
    {
     "name": "stdout",
     "output_type": "stream",
     "text": [
      "[1, 3, 0]\n"
     ]
    }
   ],
   "source": [
    "d = [1, 2, 9]\n",
    "a=0\n",
    "z=d[::-1]\n",
    "lst=[]\n",
    "for i in range(len(z)):\n",
    "    a+=z[i]*(10**i)\n",
    "b=a+1\n",
    "\n",
    "if b//10 == a//10:\n",
    "    d.pop()\n",
    "    d.append(b%10)\n",
    "else:\n",
    "    d=[]\n",
    "    while b>0:\n",
    "        d.append(b%10)\n",
    "        b=b//10\n",
    "    d=d[::-1]\n",
    "print(d)\n"
   ]
  },
  {
   "cell_type": "code",
   "execution_count": 11,
   "id": "a4d78d35",
   "metadata": {},
   "outputs": [
    {
     "name": "stdout",
     "output_type": "stream",
     "text": [
      "[]\n"
     ]
    }
   ],
   "source": [
    "a=[9]\n",
    "a.pop()\n",
    "print(a)"
   ]
  },
  {
   "cell_type": "code",
   "execution_count": 30,
   "id": "3ec685be",
   "metadata": {},
   "outputs": [
    {
     "name": "stdout",
     "output_type": "stream",
     "text": [
      "[2, 2]\n"
     ]
    }
   ],
   "source": [
    "nums=[3,2,2,3]\n",
    "val=3\n",
    "\n",
    "for i in range(len(nums)-1):\n",
    "    a=nums[i]\n",
    "    if val==a:\n",
    "        nums.pop(i)\n",
    "print(nums)"
   ]
  },
  {
   "cell_type": "code",
   "execution_count": 32,
   "id": "ff306230",
   "metadata": {},
   "outputs": [
    {
     "name": "stdout",
     "output_type": "stream",
     "text": [
      "0\n"
     ]
    }
   ],
   "source": [
    "nums=[1]\n",
    "target=1\n",
    "for i in range(len(nums)):\n",
    "    if nums[i]==target:\n",
    "        print(i)"
   ]
  },
  {
   "cell_type": "code",
   "execution_count": 41,
   "id": "11302ae7",
   "metadata": {},
   "outputs": [
    {
     "name": "stdout",
     "output_type": "stream",
     "text": [
      "1\n"
     ]
    }
   ],
   "source": [
    "nums=[1,3]\n",
    "target=2\n",
    "if target<nums[0]:\n",
    "    print(0)\n",
    "elif target>nums[len(nums)-1]:\n",
    "    print(len(nums))\n",
    "for i in range(len(nums)):\n",
    "    if nums[i]==target:\n",
    "        print(i)\n",
    "    elif target<nums[i]:\n",
    "        print(i)"
   ]
  },
  {
   "cell_type": "code",
   "execution_count": 43,
   "id": "c70b8647",
   "metadata": {},
   "outputs": [
    {
     "name": "stdout",
     "output_type": "stream",
     "text": [
      "0b11\n"
     ]
    }
   ],
   "source": [
    "a='11'\n",
    "b=int(a,2)\n",
    "print(bin(b))"
   ]
  },
  {
   "cell_type": "code",
   "execution_count": null,
   "id": "9220a31c",
   "metadata": {},
   "outputs": [],
   "source": []
  }
 ],
 "metadata": {
  "kernelspec": {
   "display_name": "Python 3",
   "language": "python",
   "name": "python3"
  },
  "language_info": {
   "codemirror_mode": {
    "name": "ipython",
    "version": 3
   },
   "file_extension": ".py",
   "mimetype": "text/x-python",
   "name": "python",
   "nbconvert_exporter": "python",
   "pygments_lexer": "ipython3",
   "version": "3.8.8"
  }
 },
 "nbformat": 4,
 "nbformat_minor": 5
}
