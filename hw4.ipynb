{
 "cells": [
  {
   "cell_type": "code",
   "execution_count": 78,
   "id": "37ed51f7",
   "metadata": {},
   "outputs": [
    {
     "data": {
      "text/html": [
       "<div>\n",
       "<style scoped>\n",
       "    .dataframe tbody tr th:only-of-type {\n",
       "        vertical-align: middle;\n",
       "    }\n",
       "\n",
       "    .dataframe tbody tr th {\n",
       "        vertical-align: top;\n",
       "    }\n",
       "\n",
       "    .dataframe thead th {\n",
       "        text-align: right;\n",
       "    }\n",
       "</style>\n",
       "<table border=\"1\" class=\"dataframe\">\n",
       "  <thead>\n",
       "    <tr style=\"text-align: right;\">\n",
       "      <th></th>\n",
       "      <th>name</th>\n",
       "      <th>align</th>\n",
       "      <th>eye</th>\n",
       "      <th>hair</th>\n",
       "      <th>sex</th>\n",
       "      <th>appearances</th>\n",
       "      <th>first_appearance</th>\n",
       "    </tr>\n",
       "  </thead>\n",
       "  <tbody>\n",
       "    <tr>\n",
       "      <th>0</th>\n",
       "      <td>Spider-Man (Peter Parker)</td>\n",
       "      <td>Добрый персонаж</td>\n",
       "      <td>Карие глаза</td>\n",
       "      <td>Каштановые волосы</td>\n",
       "      <td>Мужской персонаж</td>\n",
       "      <td>4043.0</td>\n",
       "      <td>1962.0</td>\n",
       "    </tr>\n",
       "    <tr>\n",
       "      <th>1</th>\n",
       "      <td>Captain America (Steven Rogers)</td>\n",
       "      <td>Добрый персонаж</td>\n",
       "      <td>Голубые глаза</td>\n",
       "      <td>Белые волосы</td>\n",
       "      <td>Мужской персонаж</td>\n",
       "      <td>3360.0</td>\n",
       "      <td>1941.0</td>\n",
       "    </tr>\n",
       "    <tr>\n",
       "      <th>2</th>\n",
       "      <td>Wolverine (James \\\"Logan\\\" Howlett)</td>\n",
       "      <td>Нейтральный персонаж</td>\n",
       "      <td>Голубые глаза</td>\n",
       "      <td>Черные волосы</td>\n",
       "      <td>Мужской персонаж</td>\n",
       "      <td>3061.0</td>\n",
       "      <td>1974.0</td>\n",
       "    </tr>\n",
       "    <tr>\n",
       "      <th>3</th>\n",
       "      <td>Iron Man (Anthony \\\"Tony\\\" Stark)</td>\n",
       "      <td>Добрый персонаж</td>\n",
       "      <td>Голубые глаза</td>\n",
       "      <td>Черные волосы</td>\n",
       "      <td>Мужской персонаж</td>\n",
       "      <td>2961.0</td>\n",
       "      <td>1963.0</td>\n",
       "    </tr>\n",
       "    <tr>\n",
       "      <th>4</th>\n",
       "      <td>Thor (Thor Odinson)</td>\n",
       "      <td>Добрый персонаж</td>\n",
       "      <td>Голубые глаза</td>\n",
       "      <td>Русые волосы</td>\n",
       "      <td>Мужской персонаж</td>\n",
       "      <td>2258.0</td>\n",
       "      <td>1950.0</td>\n",
       "    </tr>\n",
       "  </tbody>\n",
       "</table>\n",
       "</div>"
      ],
      "text/plain": [
       "                                  name                 align            eye  \\\n",
       "0            Spider-Man (Peter Parker)       Добрый персонаж    Карие глаза   \n",
       "1      Captain America (Steven Rogers)       Добрый персонаж  Голубые глаза   \n",
       "2  Wolverine (James \\\"Logan\\\" Howlett)  Нейтральный персонаж  Голубые глаза   \n",
       "3    Iron Man (Anthony \\\"Tony\\\" Stark)       Добрый персонаж  Голубые глаза   \n",
       "4                  Thor (Thor Odinson)       Добрый персонаж  Голубые глаза   \n",
       "\n",
       "                hair               sex  appearances  first_appearance  \n",
       "0  Каштановые волосы  Мужской персонаж       4043.0            1962.0  \n",
       "1       Белые волосы  Мужской персонаж       3360.0            1941.0  \n",
       "2      Черные волосы  Мужской персонаж       3061.0            1974.0  \n",
       "3      Черные волосы  Мужской персонаж       2961.0            1963.0  \n",
       "4       Русые волосы  Мужской персонаж       2258.0            1950.0  "
      ]
     },
     "execution_count": 78,
     "metadata": {},
     "output_type": "execute_result"
    }
   ],
   "source": [
    "import pandas as pd\n",
    "import numpy as np\n",
    "marvel = pd.read_excel('MarvelComicCaracters.xlsx')\n",
    "marvel.head()"
   ]
  },
  {
   "cell_type": "code",
   "execution_count": 7,
   "id": "60684a86",
   "metadata": {},
   "outputs": [
    {
     "data": {
      "text/plain": [
       "(1096, 7)"
      ]
     },
     "execution_count": 7,
     "metadata": {},
     "output_type": "execute_result"
    }
   ],
   "source": [
    "marvel[marvel['appearances'].isna()].shape"
   ]
  },
  {
   "cell_type": "code",
   "execution_count": 28,
   "id": "f5077c4a",
   "metadata": {},
   "outputs": [
    {
     "data": {
      "text/plain": [
       "(15280,)"
      ]
     },
     "execution_count": 28,
     "metadata": {},
     "output_type": "execute_result"
    }
   ],
   "source": [
    "marvel['appearances'].dropna().shape"
   ]
  },
  {
   "cell_type": "code",
   "execution_count": 29,
   "id": "793f732b",
   "metadata": {},
   "outputs": [
    {
     "name": "stdout",
     "output_type": "stream",
     "text": [
      "13.0 5.0\n"
     ]
    }
   ],
   "source": [
    "marvel['appearances'].dropna()\n",
    "IQR1 = marvel[marvel['align']=='Добрый персонаж']['appearances'].quantile(0.75) - marvel[marvel['align']=='Добрый персонаж']['appearances'].quantile(0.25)\n",
    "IQR2 = marvel[marvel['align']=='Злой персонаж']['appearances'].quantile(0.75) - marvel[marvel['align']=='Злой персонаж']['appearances'].quantile(0.25)\n",
    "\n",
    "print(IQR1, IQR2)"
   ]
  },
  {
   "cell_type": "code",
   "execution_count": 93,
   "id": "19045451",
   "metadata": {},
   "outputs": [
    {
     "name": "stdout",
     "output_type": "stream",
     "text": [
      "7.0\n"
     ]
    }
   ],
   "source": [
    "marvel['appearances'].dropna()\n",
    "Q1 = marvel['appearances'].quantile(0.25)\n",
    "Q3 = marvel['appearances'].quantile(0.75)\n",
    "IQR = Q3 - Q1\n",
    "IQR_up = Q3 + 1.5*IQR\n",
    "IQR_down = Q1-1.5*IQR\n",
    "print(IQR)"
   ]
  },
  {
   "cell_type": "code",
   "execution_count": 35,
   "id": "142cf94f",
   "metadata": {},
   "outputs": [
    {
     "data": {
      "text/plain": [
       "(1938, 7)"
      ]
     },
     "execution_count": 35,
     "metadata": {},
     "output_type": "execute_result"
    }
   ],
   "source": [
    "marvel[(marvel['appearances']>IQR_up)].shape"
   ]
  },
  {
   "cell_type": "code",
   "execution_count": 36,
   "id": "0a98c7e6",
   "metadata": {},
   "outputs": [
    {
     "data": {
      "text/plain": [
       "(0, 7)"
      ]
     },
     "execution_count": 36,
     "metadata": {},
     "output_type": "execute_result"
    }
   ],
   "source": [
    "marvel[(marvel['appearances']<IQR_down)].shape"
   ]
  },
  {
   "cell_type": "code",
   "execution_count": 39,
   "id": "b9819484",
   "metadata": {},
   "outputs": [
    {
     "data": {
      "text/plain": [
       "Добрый персонаж         944\n",
       "Злой персонаж           551\n",
       "Нейтральный персонаж    285\n",
       "Name: align, dtype: int64"
      ]
     },
     "execution_count": 39,
     "metadata": {},
     "output_type": "execute_result"
    }
   ],
   "source": [
    "marvel[(marvel['appearances']>IQR_up)]['align'].value_counts()"
   ]
  },
  {
   "cell_type": "code",
   "execution_count": 50,
   "id": "2d8d8640",
   "metadata": {},
   "outputs": [],
   "source": [
    "marvel['app_log'] = np.log(marvel['appearances'])\n",
    "marvel['app_log'].dropna()\n",
    "mean = marvel['app_log'].mean()\n",
    "std = marvel['app_log'].std()\n",
    "std_up = mean + 3*std\n",
    "std_down = mean - 3*std"
   ]
  },
  {
   "cell_type": "code",
   "execution_count": 51,
   "id": "715e526d",
   "metadata": {},
   "outputs": [
    {
     "data": {
      "text/plain": [
       "(195, 8)"
      ]
     },
     "execution_count": 51,
     "metadata": {},
     "output_type": "execute_result"
    }
   ],
   "source": [
    "marvel[marvel['app_log']>std_up].shape"
   ]
  },
  {
   "cell_type": "code",
   "execution_count": 52,
   "id": "a652b9c6",
   "metadata": {},
   "outputs": [
    {
     "data": {
      "text/plain": [
       "(0, 8)"
      ]
     },
     "execution_count": 52,
     "metadata": {},
     "output_type": "execute_result"
    }
   ],
   "source": [
    "marvel[marvel['app_log']<std_down].shape"
   ]
  },
  {
   "cell_type": "code",
   "execution_count": 69,
   "id": "b32948f5",
   "metadata": {},
   "outputs": [
    {
     "name": "stdout",
     "output_type": "stream",
     "text": [
      "17.033376963350786 (128, 8)\n"
     ]
    }
   ],
   "source": [
    "marvel['appearances'].dropna()\n",
    "mean = marvel['appearances'].mean()\n",
    "std = marvel['appearances'].std()\n",
    "std_up = mean + 3*std\n",
    "std_down = mean - 3*std\n",
    "print(mean, marvel[marvel['appearances']>std_up].shape)"
   ]
  },
  {
   "cell_type": "code",
   "execution_count": 84,
   "id": "4a41d9e3",
   "metadata": {},
   "outputs": [
    {
     "name": "stdout",
     "output_type": "stream",
     "text": [
      "20.284801333703808 264.8288687720956 (48, 7)\n"
     ]
    }
   ],
   "source": [
    "marvel['appearances'].dropna()\n",
    "mean = marvel[marvel['sex']=='Женский персонаж']['appearances'].mean()\n",
    "std = marvel[marvel['sex']=='Женский персонаж']['appearances'].std()\n",
    "std_up = mean + 3*std\n",
    "print(mean, std_up, marvel[(marvel['sex']=='Женский персонаж') & (marvel['appearances']>std_up)].shape)"
   ]
  },
  {
   "cell_type": "code",
   "execution_count": 63,
   "id": "4aa60668",
   "metadata": {},
   "outputs": [
    {
     "data": {
      "text/plain": [
       "Мужской персонаж           97\n",
       "Женский персонаж           48\n",
       "Гендерфлюидный персонаж     1\n",
       "Безполый персонаж           1\n",
       "Name: sex, dtype: int64"
      ]
     },
     "execution_count": 63,
     "metadata": {},
     "output_type": "execute_result"
    }
   ],
   "source": [
    "marvel['appearances'].dropna()\n",
    "marvel[marvel['appearances']>std_up]['sex'].value_counts()"
   ]
  },
  {
   "cell_type": "code",
   "execution_count": 65,
   "id": "38fe8e82",
   "metadata": {},
   "outputs": [
    {
     "data": {
      "text/html": [
       "<div>\n",
       "<style scoped>\n",
       "    .dataframe tbody tr th:only-of-type {\n",
       "        vertical-align: middle;\n",
       "    }\n",
       "\n",
       "    .dataframe tbody tr th {\n",
       "        vertical-align: top;\n",
       "    }\n",
       "\n",
       "    .dataframe thead th {\n",
       "        text-align: right;\n",
       "    }\n",
       "</style>\n",
       "<table border=\"1\" class=\"dataframe\">\n",
       "  <thead>\n",
       "    <tr style=\"text-align: right;\">\n",
       "      <th></th>\n",
       "      <th>name</th>\n",
       "      <th>align</th>\n",
       "      <th>eye</th>\n",
       "      <th>hair</th>\n",
       "      <th>sex</th>\n",
       "      <th>appearances</th>\n",
       "      <th>first_appearance</th>\n",
       "      <th>app_log</th>\n",
       "    </tr>\n",
       "  </thead>\n",
       "  <tbody>\n",
       "    <tr>\n",
       "      <th>0</th>\n",
       "      <td>Spider-Man (Peter Parker)</td>\n",
       "      <td>Добрый персонаж</td>\n",
       "      <td>Карие глаза</td>\n",
       "      <td>Каштановые волосы</td>\n",
       "      <td>Мужской персонаж</td>\n",
       "      <td>4043.0</td>\n",
       "      <td>1962.0</td>\n",
       "      <td>8.304742</td>\n",
       "    </tr>\n",
       "    <tr>\n",
       "      <th>1</th>\n",
       "      <td>Captain America (Steven Rogers)</td>\n",
       "      <td>Добрый персонаж</td>\n",
       "      <td>Голубые глаза</td>\n",
       "      <td>Белые волосы</td>\n",
       "      <td>Мужской персонаж</td>\n",
       "      <td>3360.0</td>\n",
       "      <td>1941.0</td>\n",
       "      <td>8.119696</td>\n",
       "    </tr>\n",
       "    <tr>\n",
       "      <th>2</th>\n",
       "      <td>Wolverine (James \\\"Logan\\\" Howlett)</td>\n",
       "      <td>Нейтральный персонаж</td>\n",
       "      <td>Голубые глаза</td>\n",
       "      <td>Черные волосы</td>\n",
       "      <td>Мужской персонаж</td>\n",
       "      <td>3061.0</td>\n",
       "      <td>1974.0</td>\n",
       "      <td>8.026497</td>\n",
       "    </tr>\n",
       "    <tr>\n",
       "      <th>3</th>\n",
       "      <td>Iron Man (Anthony \\\"Tony\\\" Stark)</td>\n",
       "      <td>Добрый персонаж</td>\n",
       "      <td>Голубые глаза</td>\n",
       "      <td>Черные волосы</td>\n",
       "      <td>Мужской персонаж</td>\n",
       "      <td>2961.0</td>\n",
       "      <td>1963.0</td>\n",
       "      <td>7.993282</td>\n",
       "    </tr>\n",
       "    <tr>\n",
       "      <th>4</th>\n",
       "      <td>Thor (Thor Odinson)</td>\n",
       "      <td>Добрый персонаж</td>\n",
       "      <td>Голубые глаза</td>\n",
       "      <td>Русые волосы</td>\n",
       "      <td>Мужской персонаж</td>\n",
       "      <td>2258.0</td>\n",
       "      <td>1950.0</td>\n",
       "      <td>7.722235</td>\n",
       "    </tr>\n",
       "    <tr>\n",
       "      <th>...</th>\n",
       "      <td>...</td>\n",
       "      <td>...</td>\n",
       "      <td>...</td>\n",
       "      <td>...</td>\n",
       "      <td>...</td>\n",
       "      <td>...</td>\n",
       "      <td>...</td>\n",
       "      <td>...</td>\n",
       "    </tr>\n",
       "    <tr>\n",
       "      <th>142</th>\n",
       "      <td>Gorgon (Earth-616)</td>\n",
       "      <td>Добрый персонаж</td>\n",
       "      <td>Темно-карие глаза</td>\n",
       "      <td>Каштановые волосы</td>\n",
       "      <td>Мужской персонаж</td>\n",
       "      <td>272.0</td>\n",
       "      <td>1965.0</td>\n",
       "      <td>5.605802</td>\n",
       "    </tr>\n",
       "    <tr>\n",
       "      <th>143</th>\n",
       "      <td>James Madrox (Earth-616)</td>\n",
       "      <td>Добрый персонаж</td>\n",
       "      <td>Темно-карие глаза</td>\n",
       "      <td>Каштановые волосы</td>\n",
       "      <td>Мужской персонаж</td>\n",
       "      <td>271.0</td>\n",
       "      <td>1975.0</td>\n",
       "      <td>5.602119</td>\n",
       "    </tr>\n",
       "    <tr>\n",
       "      <th>144</th>\n",
       "      <td>Heimdall (Earth-616)</td>\n",
       "      <td>Добрый персонаж</td>\n",
       "      <td>Серые глаза</td>\n",
       "      <td>Каштановые волосы</td>\n",
       "      <td>Мужской персонаж</td>\n",
       "      <td>270.0</td>\n",
       "      <td>1962.0</td>\n",
       "      <td>5.598422</td>\n",
       "    </tr>\n",
       "    <tr>\n",
       "      <th>145</th>\n",
       "      <td>Theresa Cassidy (Earth-616)</td>\n",
       "      <td>Добрый персонаж</td>\n",
       "      <td>Зеленые глаза</td>\n",
       "      <td>NaN</td>\n",
       "      <td>Женский персонаж</td>\n",
       "      <td>267.0</td>\n",
       "      <td>1981.0</td>\n",
       "      <td>5.587249</td>\n",
       "    </tr>\n",
       "    <tr>\n",
       "      <th>146</th>\n",
       "      <td>Laura Kinney (Earth-616)</td>\n",
       "      <td>Добрый персонаж</td>\n",
       "      <td>Зеленые глаза</td>\n",
       "      <td>Черные волосы</td>\n",
       "      <td>Женский персонаж</td>\n",
       "      <td>265.0</td>\n",
       "      <td>2004.0</td>\n",
       "      <td>5.579730</td>\n",
       "    </tr>\n",
       "  </tbody>\n",
       "</table>\n",
       "<p>147 rows × 8 columns</p>\n",
       "</div>"
      ],
      "text/plain": [
       "                                    name                 align  \\\n",
       "0              Spider-Man (Peter Parker)       Добрый персонаж   \n",
       "1        Captain America (Steven Rogers)       Добрый персонаж   \n",
       "2    Wolverine (James \\\"Logan\\\" Howlett)  Нейтральный персонаж   \n",
       "3      Iron Man (Anthony \\\"Tony\\\" Stark)       Добрый персонаж   \n",
       "4                    Thor (Thor Odinson)       Добрый персонаж   \n",
       "..                                   ...                   ...   \n",
       "142                   Gorgon (Earth-616)       Добрый персонаж   \n",
       "143             James Madrox (Earth-616)       Добрый персонаж   \n",
       "144                 Heimdall (Earth-616)       Добрый персонаж   \n",
       "145          Theresa Cassidy (Earth-616)       Добрый персонаж   \n",
       "146             Laura Kinney (Earth-616)       Добрый персонаж   \n",
       "\n",
       "                   eye               hair               sex  appearances  \\\n",
       "0          Карие глаза  Каштановые волосы  Мужской персонаж       4043.0   \n",
       "1        Голубые глаза       Белые волосы  Мужской персонаж       3360.0   \n",
       "2        Голубые глаза      Черные волосы  Мужской персонаж       3061.0   \n",
       "3        Голубые глаза      Черные волосы  Мужской персонаж       2961.0   \n",
       "4        Голубые глаза       Русые волосы  Мужской персонаж       2258.0   \n",
       "..                 ...                ...               ...          ...   \n",
       "142  Темно-карие глаза  Каштановые волосы  Мужской персонаж        272.0   \n",
       "143  Темно-карие глаза  Каштановые волосы  Мужской персонаж        271.0   \n",
       "144        Серые глаза  Каштановые волосы  Мужской персонаж        270.0   \n",
       "145      Зеленые глаза                NaN  Женский персонаж        267.0   \n",
       "146      Зеленые глаза      Черные волосы  Женский персонаж        265.0   \n",
       "\n",
       "     first_appearance   app_log  \n",
       "0              1962.0  8.304742  \n",
       "1              1941.0  8.119696  \n",
       "2              1974.0  8.026497  \n",
       "3              1963.0  7.993282  \n",
       "4              1950.0  7.722235  \n",
       "..                ...       ...  \n",
       "142            1965.0  5.605802  \n",
       "143            1975.0  5.602119  \n",
       "144            1962.0  5.598422  \n",
       "145            1981.0  5.587249  \n",
       "146            2004.0  5.579730  \n",
       "\n",
       "[147 rows x 8 columns]"
      ]
     },
     "execution_count": 65,
     "metadata": {},
     "output_type": "execute_result"
    }
   ],
   "source": [
    "marvel[marvel['appearances']>std_up]"
   ]
  },
  {
   "cell_type": "code",
   "execution_count": 76,
   "id": "de44f973",
   "metadata": {},
   "outputs": [
    {
     "name": "stdout",
     "output_type": "stream",
     "text": [
      "3.9579523309848597\n",
      "11\n"
     ]
    }
   ],
   "source": [
    "print(marvel[(marvel['appearances']<=IQR_up)]['appearances'].mean())\n",
    "print(round(marvel[(marvel['appearances']<=std_up)]['appearances'].mean()))"
   ]
  },
  {
   "cell_type": "code",
   "execution_count": 85,
   "id": "2c6d8971",
   "metadata": {},
   "outputs": [
    {
     "data": {
      "text/plain": [
       "0    Черные волосы\n",
       "dtype: object"
      ]
     },
     "execution_count": 85,
     "metadata": {},
     "output_type": "execute_result"
    }
   ],
   "source": [
    "marvel['appearances'].dropna()\n",
    "marvel[(marvel['sex']=='Женский персонаж') & (marvel['align']=='Добрый персонаж')]['hair'].mode()"
   ]
  },
  {
   "cell_type": "code",
   "execution_count": 87,
   "id": "961df293",
   "metadata": {},
   "outputs": [
    {
     "data": {
      "text/plain": [
       "0    Черные волосы\n",
       "dtype: object"
      ]
     },
     "execution_count": 87,
     "metadata": {},
     "output_type": "execute_result"
    }
   ],
   "source": [
    "marvel['appearances'].dropna()\n",
    "Q1 = marvel['appearances'].quantile(0.25)\n",
    "Q3 = marvel['appearances'].quantile(0.75)\n",
    "IQR = Q3 - Q1\n",
    "IQR_up = Q3 + 1.5*IQR\n",
    "IQR_down = Q1-1.5*IQR\n",
    "marvel[(marvel['sex']=='Женский персонаж') & (marvel['align']=='Добрый персонаж')& (marvel['appearances']<=IQR_up)]['hair'].mode()"
   ]
  },
  {
   "cell_type": "code",
   "execution_count": 82,
   "id": "4e8b424f",
   "metadata": {},
   "outputs": [
    {
     "data": {
      "text/plain": [
       "(16376,)"
      ]
     },
     "execution_count": 82,
     "metadata": {},
     "output_type": "execute_result"
    }
   ],
   "source": [
    "marvel['align'].isna().shape"
   ]
  },
  {
   "cell_type": "code",
   "execution_count": 91,
   "id": "f44c690f",
   "metadata": {},
   "outputs": [
    {
     "data": {
      "text/plain": [
       "3.0"
      ]
     },
     "execution_count": 91,
     "metadata": {},
     "output_type": "execute_result"
    }
   ],
   "source": [
    "marvel[(marvel['align']=='Злой персонаж')]['appearances'].median()"
   ]
  },
  {
   "cell_type": "code",
   "execution_count": 92,
   "id": "ea74c137",
   "metadata": {},
   "outputs": [
    {
     "data": {
      "text/plain": [
       "2.0"
      ]
     },
     "execution_count": 92,
     "metadata": {},
     "output_type": "execute_result"
    }
   ],
   "source": [
    "marvel[(marvel['align']=='Злой персонаж')& (marvel['appearances']<=IQR_up)]['appearances'].median()"
   ]
  },
  {
   "cell_type": "code",
   "execution_count": null,
   "id": "7afdd15f",
   "metadata": {},
   "outputs": [],
   "source": []
  }
 ],
 "metadata": {
  "kernelspec": {
   "display_name": "Python 3",
   "language": "python",
   "name": "python3"
  },
  "language_info": {
   "codemirror_mode": {
    "name": "ipython",
    "version": 3
   },
   "file_extension": ".py",
   "mimetype": "text/x-python",
   "name": "python",
   "nbconvert_exporter": "python",
   "pygments_lexer": "ipython3",
   "version": "3.8.8"
  }
 },
 "nbformat": 4,
 "nbformat_minor": 5
}
