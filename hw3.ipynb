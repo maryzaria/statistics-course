{
 "cells": [
  {
   "cell_type": "code",
   "execution_count": 16,
   "id": "73d2352a",
   "metadata": {},
   "outputs": [
    {
     "data": {
      "text/html": [
       "<div>\n",
       "<style scoped>\n",
       "    .dataframe tbody tr th:only-of-type {\n",
       "        vertical-align: middle;\n",
       "    }\n",
       "\n",
       "    .dataframe tbody tr th {\n",
       "        vertical-align: top;\n",
       "    }\n",
       "\n",
       "    .dataframe thead th {\n",
       "        text-align: right;\n",
       "    }\n",
       "</style>\n",
       "<table border=\"1\" class=\"dataframe\">\n",
       "  <thead>\n",
       "    <tr style=\"text-align: right;\">\n",
       "      <th></th>\n",
       "      <th>name</th>\n",
       "      <th>align</th>\n",
       "      <th>eye</th>\n",
       "      <th>hair</th>\n",
       "      <th>sex</th>\n",
       "      <th>appearances</th>\n",
       "      <th>first_appearance</th>\n",
       "    </tr>\n",
       "  </thead>\n",
       "  <tbody>\n",
       "    <tr>\n",
       "      <th>0</th>\n",
       "      <td>Spider-Man (Peter Parker)</td>\n",
       "      <td>Добрый персонаж</td>\n",
       "      <td>Карие глаза</td>\n",
       "      <td>Каштановые волосы</td>\n",
       "      <td>Мужской персонаж</td>\n",
       "      <td>4043.0</td>\n",
       "      <td>1962.0</td>\n",
       "    </tr>\n",
       "    <tr>\n",
       "      <th>1</th>\n",
       "      <td>Captain America (Steven Rogers)</td>\n",
       "      <td>Добрый персонаж</td>\n",
       "      <td>Голубые глаза</td>\n",
       "      <td>Белые волосы</td>\n",
       "      <td>Мужской персонаж</td>\n",
       "      <td>3360.0</td>\n",
       "      <td>1941.0</td>\n",
       "    </tr>\n",
       "    <tr>\n",
       "      <th>2</th>\n",
       "      <td>Wolverine (James \\\"Logan\\\" Howlett)</td>\n",
       "      <td>Нейтральный персонаж</td>\n",
       "      <td>Голубые глаза</td>\n",
       "      <td>Черные волосы</td>\n",
       "      <td>Мужской персонаж</td>\n",
       "      <td>3061.0</td>\n",
       "      <td>1974.0</td>\n",
       "    </tr>\n",
       "    <tr>\n",
       "      <th>3</th>\n",
       "      <td>Iron Man (Anthony \\\"Tony\\\" Stark)</td>\n",
       "      <td>Добрый персонаж</td>\n",
       "      <td>Голубые глаза</td>\n",
       "      <td>Черные волосы</td>\n",
       "      <td>Мужской персонаж</td>\n",
       "      <td>2961.0</td>\n",
       "      <td>1963.0</td>\n",
       "    </tr>\n",
       "    <tr>\n",
       "      <th>4</th>\n",
       "      <td>Thor (Thor Odinson)</td>\n",
       "      <td>Добрый персонаж</td>\n",
       "      <td>Голубые глаза</td>\n",
       "      <td>Русые волосы</td>\n",
       "      <td>Мужской персонаж</td>\n",
       "      <td>2258.0</td>\n",
       "      <td>1950.0</td>\n",
       "    </tr>\n",
       "  </tbody>\n",
       "</table>\n",
       "</div>"
      ],
      "text/plain": [
       "                                  name                 align            eye  \\\n",
       "0            Spider-Man (Peter Parker)       Добрый персонаж    Карие глаза   \n",
       "1      Captain America (Steven Rogers)       Добрый персонаж  Голубые глаза   \n",
       "2  Wolverine (James \\\"Logan\\\" Howlett)  Нейтральный персонаж  Голубые глаза   \n",
       "3    Iron Man (Anthony \\\"Tony\\\" Stark)       Добрый персонаж  Голубые глаза   \n",
       "4                  Thor (Thor Odinson)       Добрый персонаж  Голубые глаза   \n",
       "\n",
       "                hair               sex  appearances  first_appearance  \n",
       "0  Каштановые волосы  Мужской персонаж       4043.0            1962.0  \n",
       "1       Белые волосы  Мужской персонаж       3360.0            1941.0  \n",
       "2      Черные волосы  Мужской персонаж       3061.0            1974.0  \n",
       "3      Черные волосы  Мужской персонаж       2961.0            1963.0  \n",
       "4       Русые волосы  Мужской персонаж       2258.0            1950.0  "
      ]
     },
     "execution_count": 16,
     "metadata": {},
     "output_type": "execute_result"
    }
   ],
   "source": [
    "import pandas as pd\n",
    "import numpy as np\n",
    "\n",
    "marvel = pd.read_excel('C:/Users/user/Juputer/statistics-course/MarvelComicCaracters.xlsx')\n",
    "marvel.head()"
   ]
  },
  {
   "cell_type": "code",
   "execution_count": 2,
   "id": "25680da1",
   "metadata": {},
   "outputs": [
    {
     "data": {
      "text/plain": [
       "0    Голубые глаза\n",
       "dtype: object"
      ]
     },
     "execution_count": 2,
     "metadata": {},
     "output_type": "execute_result"
    }
   ],
   "source": [
    "marvel['eye'].mode()"
   ]
  },
  {
   "cell_type": "code",
   "execution_count": 7,
   "id": "c49662a3",
   "metadata": {},
   "outputs": [
    {
     "data": {
      "text/plain": [
       "0    1.0\n",
       "dtype: float64"
      ]
     },
     "execution_count": 7,
     "metadata": {},
     "output_type": "execute_result"
    }
   ],
   "source": [
    "marvel['appearances'].mode()"
   ]
  },
  {
   "cell_type": "code",
   "execution_count": 8,
   "id": "8e0d9691",
   "metadata": {},
   "outputs": [
    {
     "data": {
      "text/plain": [
       "0    Черные волосы\n",
       "dtype: object"
      ]
     },
     "execution_count": 8,
     "metadata": {},
     "output_type": "execute_result"
    }
   ],
   "source": [
    "marvel[marvel['sex']=='Мужской персонаж']['hair'].mode()"
   ]
  },
  {
   "cell_type": "code",
   "execution_count": 10,
   "id": "372c3016",
   "metadata": {},
   "outputs": [
    {
     "data": {
      "text/plain": [
       "0    Черные волосы\n",
       "dtype: object"
      ]
     },
     "execution_count": 10,
     "metadata": {},
     "output_type": "execute_result"
    }
   ],
   "source": [
    "marvel[marvel['sex']=='Женский персонаж']['hair'].mode()"
   ]
  },
  {
   "cell_type": "code",
   "execution_count": 13,
   "id": "54b7c0e1",
   "metadata": {},
   "outputs": [
    {
     "data": {
      "text/plain": [
       "Черные волосы                 2678\n",
       "Каштановые волосы             1801\n",
       "Русые волосы                   844\n",
       "Без волос                      841\n",
       "Белые волосы                   608\n",
       "Зеленые волосы                  66\n",
       "Оранжевые волосы                35\n",
       "Разноцветные волосы             22\n",
       "Фиолетовые волосы               19\n",
       "Светло-розовые волосы           17\n",
       "Желтые волосы                   16\n",
       "Розовые волосы                   9\n",
       "Серебристые волосы               8\n",
       "Золотые волосы                   7\n",
       "Светло-каштановые волосы         6\n",
       "Рыжевато-соломенные волосы       6\n",
       "Оранжево-каштановые волосы       3\n",
       "Бронзовые волосы                 1\n",
       "Пурпурные волосы                 1\n",
       "Name: hair, dtype: int64"
      ]
     },
     "execution_count": 13,
     "metadata": {},
     "output_type": "execute_result"
    }
   ],
   "source": [
    "marvel[marvel['sex']=='Мужской персонаж']['hair'].value_counts()"
   ]
  },
  {
   "cell_type": "code",
   "execution_count": 14,
   "id": "b35c8b0c",
   "metadata": {},
   "outputs": [
    {
     "data": {
      "text/plain": [
       "3.0"
      ]
     },
     "execution_count": 14,
     "metadata": {},
     "output_type": "execute_result"
    }
   ],
   "source": [
    "marvel[marvel['align']=='Злой персонаж']['appearances'].median()"
   ]
  },
  {
   "cell_type": "code",
   "execution_count": 33,
   "id": "42eeaab8",
   "metadata": {},
   "outputs": [
    {
     "data": {
      "text/html": [
       "<div>\n",
       "<style scoped>\n",
       "    .dataframe tbody tr th:only-of-type {\n",
       "        vertical-align: middle;\n",
       "    }\n",
       "\n",
       "    .dataframe tbody tr th {\n",
       "        vertical-align: top;\n",
       "    }\n",
       "\n",
       "    .dataframe thead th {\n",
       "        text-align: right;\n",
       "    }\n",
       "</style>\n",
       "<table border=\"1\" class=\"dataframe\">\n",
       "  <thead>\n",
       "    <tr style=\"text-align: right;\">\n",
       "      <th></th>\n",
       "      <th>appearances</th>\n",
       "    </tr>\n",
       "  </thead>\n",
       "  <tbody>\n",
       "    <tr>\n",
       "      <th>0</th>\n",
       "      <td>4043.0</td>\n",
       "    </tr>\n",
       "    <tr>\n",
       "      <th>1</th>\n",
       "      <td>3360.0</td>\n",
       "    </tr>\n",
       "    <tr>\n",
       "      <th>2</th>\n",
       "      <td>3061.0</td>\n",
       "    </tr>\n",
       "    <tr>\n",
       "      <th>3</th>\n",
       "      <td>2961.0</td>\n",
       "    </tr>\n",
       "    <tr>\n",
       "      <th>4</th>\n",
       "      <td>2258.0</td>\n",
       "    </tr>\n",
       "  </tbody>\n",
       "</table>\n",
       "</div>"
      ],
      "text/plain": [
       "   appearances\n",
       "0       4043.0\n",
       "1       3360.0\n",
       "2       3061.0\n",
       "3       2961.0\n",
       "4       2258.0"
      ]
     },
     "execution_count": 33,
     "metadata": {},
     "output_type": "execute_result"
    }
   ],
   "source": [
    "marvel_app = pd.DataFrame(marvel['appearances'])\n",
    "marvel_app.head()"
   ]
  },
  {
   "cell_type": "code",
   "execution_count": 58,
   "id": "2b5ccb31",
   "metadata": {},
   "outputs": [
    {
     "name": "stdout",
     "output_type": "stream",
     "text": [
      "appearances    8665.577124\n",
      "dtype: float64 appearances    93.089082\n",
      "dtype: float64\n"
     ]
    }
   ],
   "source": [
    "marvel_mean = marvel_app.mean()\n",
    "dev = marvel_app - marvel_mean\n",
    "sq_dev = dev**2\n",
    "variance_marvel = sq_dev.sum() / (len(marvel_app) )\n",
    "std = np.sqrt(variance_marvel)\n",
    "print(variance_marvel, std)"
   ]
  },
  {
   "cell_type": "code",
   "execution_count": 35,
   "id": "af4bc202",
   "metadata": {},
   "outputs": [
    {
     "name": "stdout",
     "output_type": "stream",
     "text": [
      "9287.747298761897\n",
      "9287.139461896795\n",
      "96.37295937534499\n",
      "96.36980575832243\n"
     ]
    }
   ],
   "source": [
    "print(marvel['appearances'].var())\n",
    "print(marvel['appearances'].var(ddof=0))\n",
    "print(marvel['appearances'].std())\n",
    "print(marvel['appearances'].std(ddof=0))"
   ]
  },
  {
   "cell_type": "code",
   "execution_count": 36,
   "id": "5bbc58ff",
   "metadata": {},
   "outputs": [
    {
     "data": {
      "text/plain": [
       "0    1993.0\n",
       "dtype: float64"
      ]
     },
     "execution_count": 36,
     "metadata": {},
     "output_type": "execute_result"
    }
   ],
   "source": [
    "marvel['first_appearance'].mode()"
   ]
  },
  {
   "cell_type": "code",
   "execution_count": 53,
   "id": "e885378c",
   "metadata": {},
   "outputs": [
    {
     "name": "stdout",
     "output_type": "stream",
     "text": [
      "(15876, 7) 0    Темно-карие глаза\n",
      "dtype: object\n"
     ]
    }
   ],
   "source": [
    "marvel_5=marvel[500:]\n",
    "print(marvel_5.shape, marvel_5['eye'].mode())"
   ]
  },
  {
   "cell_type": "code",
   "execution_count": 54,
   "id": "71d6ae70",
   "metadata": {},
   "outputs": [
    {
     "name": "stdout",
     "output_type": "stream",
     "text": [
      "(16376, 7) 0    Голубые глаза\n",
      "dtype: object\n"
     ]
    }
   ],
   "source": [
    "print(marvel.shape, marvel['eye'].mode())"
   ]
  },
  {
   "cell_type": "code",
   "execution_count": 55,
   "id": "e32818d6",
   "metadata": {},
   "outputs": [
    {
     "data": {
      "text/plain": [
       "0    Черные волосы\n",
       "dtype: object"
      ]
     },
     "execution_count": 55,
     "metadata": {},
     "output_type": "execute_result"
    }
   ],
   "source": [
    "marvel['hair'].mode()"
   ]
  },
  {
   "cell_type": "code",
   "execution_count": 56,
   "id": "ca4c40b9",
   "metadata": {},
   "outputs": [
    {
     "data": {
      "text/plain": [
       "94.13253937689935"
      ]
     },
     "execution_count": 56,
     "metadata": {},
     "output_type": "execute_result"
    }
   ],
   "source": [
    "marvel[marvel['hair']=='Черные волосы']['appearances'].std(ddof=0)"
   ]
  },
  {
   "cell_type": "code",
   "execution_count": null,
   "id": "f2476281",
   "metadata": {},
   "outputs": [],
   "source": []
  }
 ],
 "metadata": {
  "kernelspec": {
   "display_name": "Python 3",
   "language": "python",
   "name": "python3"
  },
  "language_info": {
   "codemirror_mode": {
    "name": "ipython",
    "version": 3
   },
   "file_extension": ".py",
   "mimetype": "text/x-python",
   "name": "python",
   "nbconvert_exporter": "python",
   "pygments_lexer": "ipython3",
   "version": "3.8.8"
  }
 },
 "nbformat": 4,
 "nbformat_minor": 5
}
